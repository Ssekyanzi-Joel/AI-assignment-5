{
 "cells": [
  {
   "cell_type": "markdown",
   "id": "abc62fcb",
   "metadata": {},
   "source": [
    "### DATA CLEANING AND EXPLORATORY DATA ANALYSIS ON ONLINE RETAIL DATASET OBTAINED FROM KAGGLE"
   ]
  },
  {
   "cell_type": "code",
   "execution_count": 8,
   "id": "7bdf7ad7",
   "metadata": {},
   "outputs": [
    {
     "name": "stdout",
     "output_type": "stream",
     "text": [
      "Defaulting to user installation because normal site-packages is not writeable\n",
      "Requirement already satisfied: jupyter_http_over_ws in /home/einstein/.local/lib/python3.10/site-packages (0.0.8)\n",
      "Requirement already satisfied: six>=1.6.0 in /usr/lib/python3/dist-packages (from jupyter_http_over_ws) (1.16.0)\n",
      "Requirement already satisfied: notebook>=5.0 in /usr/lib/python3/dist-packages (from jupyter_http_over_ws) (6.4.8)\n",
      "Requirement already satisfied: tornado>=4.5 in /usr/lib/python3/dist-packages (from jupyter_http_over_ws) (6.1)\n",
      "Enabling: jupyter_http_over_ws\n",
      "- Writing config: /home/einstein/.jupyter\n",
      "    - Validating...\n",
      "      jupyter_http_over_ws 0.0.7 \u001b[32mOK\u001b[0m\n"
     ]
    }
   ],
   "source": [
    "#connecting to google colab to enable parallel processing with GPUs\n",
    "!pip install jupyter_http_over_ws\n",
    "!jupyter serverextension enable --py jupyter_http_over_ws"
   ]
  },
  {
   "cell_type": "code",
   "execution_count": null,
   "id": "e7aebba4",
   "metadata": {},
   "outputs": [
    {
     "name": "stdout",
     "output_type": "stream",
     "text": [
      "jupyter_http_over_ws extension initialized. Listening on /http_over_websocket\n",
      "\u001b[32m[I 16:40:12.184 NotebookApp]\u001b[m Serving notebooks from local directory: /home/einstein/Desktop/courseWork\n",
      "\u001b[32m[I 16:40:12.184 NotebookApp]\u001b[m Jupyter Notebook 6.4.8 is running at:\n",
      "\u001b[32m[I 16:40:12.184 NotebookApp]\u001b[m http://localhost:9999/?token=bcf8c2e6524ce1c5a5b4a9398d3acfbb12b9c712c5cb8233\n",
      "\u001b[32m[I 16:40:12.184 NotebookApp]\u001b[m  or http://127.0.0.1:9999/?token=bcf8c2e6524ce1c5a5b4a9398d3acfbb12b9c712c5cb8233\n",
      "\u001b[32m[I 16:40:12.184 NotebookApp]\u001b[m Use Control-C to stop this server and shut down all kernels (twice to skip confirmation).\n",
      "\u001b[35m[C 16:40:12.214 NotebookApp]\u001b[m \n",
      "    \n",
      "    To access the notebook, open this file in a browser:\n",
      "        file:///home/einstein/.local/share/jupyter/runtime/nbserver-8839-open.html\n",
      "    Or copy and paste one of these URLs:\n",
      "        http://localhost:9999/?token=bcf8c2e6524ce1c5a5b4a9398d3acfbb12b9c712c5cb8233\n",
      "     or http://127.0.0.1:9999/?token=bcf8c2e6524ce1c5a5b4a9398d3acfbb12b9c712c5cb8233\n",
      "\u001b[32m[I 16:40:32.650 NotebookApp]\u001b[m 302 GET /?token=bcf8c2e6524ce1c5a5b4a9398d3acfbb12b9c712c5cb8233 (127.0.0.1) 0.910000ms\n",
      "\u001b[33m[W 16:40:38.223 NotebookApp]\u001b[m Notebook AI assignment.ipynb is not trusted\n",
      "\u001b[32m[I 16:40:39.270 NotebookApp]\u001b[m Kernel started: 02d08660-3bfc-48d7-9394-cf08bfe4a8a6, name: python3\n",
      "[IPKernelApp] WARNING | debugpy_stream undefined, debugging will not be enabled\n",
      "[IPKernelApp] ERROR | No such comm target registered: jupyter.widget.version\n",
      "[IPKernelApp] ERROR | No such comm target registered: jupyter.widget.version\n"
     ]
    }
   ],
   "source": [
    "!jupyter notebook \\\n",
    "  --NotebookApp.allow_origin='https://colab.research.google.com' \\\n",
    "  --port=9999 \\\n",
    "  --NotebookApp.port_retries=0"
   ]
  },
  {
   "cell_type": "code",
   "execution_count": 2,
   "id": "d24dc4e0",
   "metadata": {},
   "outputs": [],
   "source": [
    "#We'll leverage python's pandas and numpy to help with data cleaning and EDA\n",
    "import pandas as pd\n",
    "import numpy as np\n",
    "import seaborn as sns\n",
    "import matplotlib.pyplot as plt\n",
    "plt.style.use('classic')\n",
    "%matplotlib inline"
   ]
  },
  {
   "cell_type": "code",
   "execution_count": 3,
   "id": "425e43a2",
   "metadata": {},
   "outputs": [],
   "source": [
    "#Creating a dataframe(df) out of our data using...\n",
    "# work on UnicodeDecodeError\n",
    "# This dataset is not good to work with its so large Half a million so it wont bring out better data visualization\n",
    "df = pd.read_csv('OnlineRetail.csv', encoding=\"ISO-8859-1\")"
   ]
  },
  {
   "cell_type": "markdown",
   "id": "e13efb6e",
   "metadata": {},
   "source": [
    "##### General overview of our data"
   ]
  },
  {
   "cell_type": "code",
   "execution_count": 3,
   "id": "5ba2d1e6",
   "metadata": {},
   "outputs": [
    {
     "data": {
      "text/html": [
       "<div>\n",
       "<style scoped>\n",
       "    .dataframe tbody tr th:only-of-type {\n",
       "        vertical-align: middle;\n",
       "    }\n",
       "\n",
       "    .dataframe tbody tr th {\n",
       "        vertical-align: top;\n",
       "    }\n",
       "\n",
       "    .dataframe thead th {\n",
       "        text-align: right;\n",
       "    }\n",
       "</style>\n",
       "<table border=\"1\" class=\"dataframe\">\n",
       "  <thead>\n",
       "    <tr style=\"text-align: right;\">\n",
       "      <th></th>\n",
       "      <th>InvoiceNo</th>\n",
       "      <th>StockCode</th>\n",
       "      <th>Description</th>\n",
       "      <th>Quantity</th>\n",
       "      <th>InvoiceDate</th>\n",
       "      <th>UnitPrice</th>\n",
       "      <th>CustomerID</th>\n",
       "      <th>Country</th>\n",
       "    </tr>\n",
       "  </thead>\n",
       "  <tbody>\n",
       "    <tr>\n",
       "      <th>0</th>\n",
       "      <td>536365</td>\n",
       "      <td>85123A</td>\n",
       "      <td>WHITE HANGING HEART T-LIGHT HOLDER</td>\n",
       "      <td>6</td>\n",
       "      <td>01-12-2010 08:26</td>\n",
       "      <td>2.55</td>\n",
       "      <td>17850.0</td>\n",
       "      <td>United Kingdom</td>\n",
       "    </tr>\n",
       "    <tr>\n",
       "      <th>1</th>\n",
       "      <td>536365</td>\n",
       "      <td>71053</td>\n",
       "      <td>WHITE METAL LANTERN</td>\n",
       "      <td>6</td>\n",
       "      <td>01-12-2010 08:26</td>\n",
       "      <td>3.39</td>\n",
       "      <td>17850.0</td>\n",
       "      <td>United Kingdom</td>\n",
       "    </tr>\n",
       "    <tr>\n",
       "      <th>2</th>\n",
       "      <td>536365</td>\n",
       "      <td>84406B</td>\n",
       "      <td>CREAM CUPID HEARTS COAT HANGER</td>\n",
       "      <td>8</td>\n",
       "      <td>01-12-2010 08:26</td>\n",
       "      <td>2.75</td>\n",
       "      <td>17850.0</td>\n",
       "      <td>United Kingdom</td>\n",
       "    </tr>\n",
       "    <tr>\n",
       "      <th>3</th>\n",
       "      <td>536365</td>\n",
       "      <td>84029G</td>\n",
       "      <td>KNITTED UNION FLAG HOT WATER BOTTLE</td>\n",
       "      <td>6</td>\n",
       "      <td>01-12-2010 08:26</td>\n",
       "      <td>3.39</td>\n",
       "      <td>17850.0</td>\n",
       "      <td>United Kingdom</td>\n",
       "    </tr>\n",
       "    <tr>\n",
       "      <th>4</th>\n",
       "      <td>536365</td>\n",
       "      <td>84029E</td>\n",
       "      <td>RED WOOLLY HOTTIE WHITE HEART.</td>\n",
       "      <td>6</td>\n",
       "      <td>01-12-2010 08:26</td>\n",
       "      <td>3.39</td>\n",
       "      <td>17850.0</td>\n",
       "      <td>United Kingdom</td>\n",
       "    </tr>\n",
       "  </tbody>\n",
       "</table>\n",
       "</div>"
      ],
      "text/plain": [
       "  InvoiceNo StockCode                          Description  Quantity  \\\n",
       "0    536365    85123A   WHITE HANGING HEART T-LIGHT HOLDER         6   \n",
       "1    536365     71053                  WHITE METAL LANTERN         6   \n",
       "2    536365    84406B       CREAM CUPID HEARTS COAT HANGER         8   \n",
       "3    536365    84029G  KNITTED UNION FLAG HOT WATER BOTTLE         6   \n",
       "4    536365    84029E       RED WOOLLY HOTTIE WHITE HEART.         6   \n",
       "\n",
       "        InvoiceDate  UnitPrice  CustomerID         Country  \n",
       "0  01-12-2010 08:26       2.55     17850.0  United Kingdom  \n",
       "1  01-12-2010 08:26       3.39     17850.0  United Kingdom  \n",
       "2  01-12-2010 08:26       2.75     17850.0  United Kingdom  \n",
       "3  01-12-2010 08:26       3.39     17850.0  United Kingdom  \n",
       "4  01-12-2010 08:26       3.39     17850.0  United Kingdom  "
      ]
     },
     "execution_count": 3,
     "metadata": {},
     "output_type": "execute_result"
    }
   ],
   "source": [
    "#Getting a general overview of our data\n",
    "df.head()"
   ]
  },
  {
   "cell_type": "markdown",
   "id": "04624a0a",
   "metadata": {},
   "source": [
    "#### General mathematical overview of the data"
   ]
  },
  {
   "cell_type": "code",
   "execution_count": 4,
   "id": "b9a17f2e",
   "metadata": {},
   "outputs": [
    {
     "data": {
      "text/html": [
       "<div>\n",
       "<style scoped>\n",
       "    .dataframe tbody tr th:only-of-type {\n",
       "        vertical-align: middle;\n",
       "    }\n",
       "\n",
       "    .dataframe tbody tr th {\n",
       "        vertical-align: top;\n",
       "    }\n",
       "\n",
       "    .dataframe thead th {\n",
       "        text-align: right;\n",
       "    }\n",
       "</style>\n",
       "<table border=\"1\" class=\"dataframe\">\n",
       "  <thead>\n",
       "    <tr style=\"text-align: right;\">\n",
       "      <th></th>\n",
       "      <th>Quantity</th>\n",
       "      <th>UnitPrice</th>\n",
       "      <th>CustomerID</th>\n",
       "    </tr>\n",
       "  </thead>\n",
       "  <tbody>\n",
       "    <tr>\n",
       "      <th>count</th>\n",
       "      <td>541909.000000</td>\n",
       "      <td>541909.000000</td>\n",
       "      <td>406829.000000</td>\n",
       "    </tr>\n",
       "    <tr>\n",
       "      <th>mean</th>\n",
       "      <td>9.552250</td>\n",
       "      <td>4.611114</td>\n",
       "      <td>15287.690570</td>\n",
       "    </tr>\n",
       "    <tr>\n",
       "      <th>std</th>\n",
       "      <td>218.081158</td>\n",
       "      <td>96.759853</td>\n",
       "      <td>1713.600303</td>\n",
       "    </tr>\n",
       "    <tr>\n",
       "      <th>min</th>\n",
       "      <td>-80995.000000</td>\n",
       "      <td>-11062.060000</td>\n",
       "      <td>12346.000000</td>\n",
       "    </tr>\n",
       "    <tr>\n",
       "      <th>25%</th>\n",
       "      <td>1.000000</td>\n",
       "      <td>1.250000</td>\n",
       "      <td>13953.000000</td>\n",
       "    </tr>\n",
       "    <tr>\n",
       "      <th>50%</th>\n",
       "      <td>3.000000</td>\n",
       "      <td>2.080000</td>\n",
       "      <td>15152.000000</td>\n",
       "    </tr>\n",
       "    <tr>\n",
       "      <th>75%</th>\n",
       "      <td>10.000000</td>\n",
       "      <td>4.130000</td>\n",
       "      <td>16791.000000</td>\n",
       "    </tr>\n",
       "    <tr>\n",
       "      <th>max</th>\n",
       "      <td>80995.000000</td>\n",
       "      <td>38970.000000</td>\n",
       "      <td>18287.000000</td>\n",
       "    </tr>\n",
       "  </tbody>\n",
       "</table>\n",
       "</div>"
      ],
      "text/plain": [
       "            Quantity      UnitPrice     CustomerID\n",
       "count  541909.000000  541909.000000  406829.000000\n",
       "mean        9.552250       4.611114   15287.690570\n",
       "std       218.081158      96.759853    1713.600303\n",
       "min    -80995.000000  -11062.060000   12346.000000\n",
       "25%         1.000000       1.250000   13953.000000\n",
       "50%         3.000000       2.080000   15152.000000\n",
       "75%        10.000000       4.130000   16791.000000\n",
       "max     80995.000000   38970.000000   18287.000000"
      ]
     },
     "execution_count": 4,
     "metadata": {},
     "output_type": "execute_result"
    }
   ],
   "source": [
    "df.describe()\n",
    "#?df"
   ]
  },
  {
   "cell_type": "markdown",
   "id": "4683a1b4",
   "metadata": {},
   "source": [
    "##### datatypes used in dataset"
   ]
  },
  {
   "cell_type": "code",
   "execution_count": 6,
   "id": "714d42a1",
   "metadata": {},
   "outputs": [
    {
     "name": "stdout",
     "output_type": "stream",
     "text": [
      "The Dataset contains 8 datatypes\n"
     ]
    },
    {
     "data": {
      "text/plain": [
       "InvoiceNo       object\n",
       "StockCode       object\n",
       "Description     object\n",
       "Quantity         int64\n",
       "InvoiceDate     object\n",
       "UnitPrice      float64\n",
       "CustomerID     float64\n",
       "Country         object\n",
       "dtype: object"
      ]
     },
     "execution_count": 6,
     "metadata": {},
     "output_type": "execute_result"
    }
   ],
   "source": [
    "#getting number of datatypes used in dataset\n",
    "def get_data_type_counts()->int:\n",
    "    count = 0\n",
    "    for i in df.dtypes:\n",
    "        count=count+1\n",
    "    return count\n",
    " \n",
    "print(\"The Dataset contains {} datatypes\".format(get_data_type_counts()))\n",
    "df.dtypes"
   ]
  },
  {
   "cell_type": "code",
   "execution_count": 10,
   "id": "4acabf3b",
   "metadata": {
    "scrolled": true
   },
   "outputs": [
    {
     "name": "stdout",
     "output_type": "stream",
     "text": [
      "InvoiceNo:0 nulls\n",
      "StockCode:0 nulls\n",
      "Description:1454 nulls\n",
      "Quantity:0 nulls\n",
      "InvoiceDate:0 nulls\n",
      "UnitPrice:0 nulls\n",
      "CustomerID:135080 nulls\n",
      "Country:0 nulls\n"
     ]
    }
   ],
   "source": [
    "#function for calculating the null values in each column\n",
    "columns = df.columns\n",
    "def calculate_nulls(columns) -> str:\n",
    "    for column in columns:\n",
    "        print(\"{}:{} nulls\".format(column, df[column].isnull().sum()))\n",
    "calculate_nulls(columns)"
   ]
  },
  {
   "cell_type": "code",
   "execution_count": 7,
   "id": "53c30d94",
   "metadata": {},
   "outputs": [
    {
     "name": "stdout",
     "output_type": "stream",
     "text": [
      "InvoiceNo\n",
      "573585    1114\n",
      "581219     749\n",
      "581492     731\n",
      "580729     721\n",
      "558475     705\n",
      "579777     687\n",
      "581217     676\n",
      "537434     675\n",
      "580730     662\n",
      "538071     652\n",
      "580367     650\n",
      "580115     645\n",
      "581439     635\n",
      "580983     629\n",
      "578344     622\n",
      "538349     620\n",
      "578347     606\n",
      "537638     601\n",
      "537237     597\n",
      "536876     593\n",
      "576617     593\n",
      "536592     592\n",
      "537823     591\n",
      "576837     585\n",
      "579508     578\n",
      "577078     572\n",
      "537240     568\n",
      "577358     561\n",
      "576618     552\n",
      "576840     544\n",
      "576339     542\n",
      "579187     541\n",
      "537666     536\n",
      "538177     534\n",
      "579196     533\n",
      "580727     529\n",
      "536544     527\n",
      "578844     527\n",
      "575930     526\n",
      "577768     526\n",
      "578827     520\n",
      "576329     518\n",
      "575176     518\n",
      "539437     518\n",
      "575477     515\n",
      "539958     512\n",
      "579512     503\n",
      "575875     503\n",
      "540551     502\n",
      "578065     494\n",
      "Name: InvoiceNo, dtype: int64\n",
      "\n",
      "StockCode\n",
      "85123A    2313\n",
      "22423     2203\n",
      "85099B    2159\n",
      "47566     1727\n",
      "20725     1639\n",
      "84879     1502\n",
      "22720     1477\n",
      "22197     1476\n",
      "21212     1385\n",
      "20727     1350\n",
      "22383     1348\n",
      "22457     1280\n",
      "23203     1267\n",
      "POST      1256\n",
      "22386     1251\n",
      "22469     1239\n",
      "22960     1229\n",
      "21931     1214\n",
      "22086     1210\n",
      "22411     1202\n",
      "20728     1197\n",
      "22382     1192\n",
      "22961     1182\n",
      "22666     1180\n",
      "23298     1179\n",
      "22699     1138\n",
      "22384     1137\n",
      "23209     1135\n",
      "82482     1129\n",
      "22993     1111\n",
      "22727     1107\n",
      "22697     1085\n",
      "23206     1084\n",
      "22178     1072\n",
      "20724     1068\n",
      "23084     1067\n",
      "20726     1061\n",
      "22726     1026\n",
      "21080     1015\n",
      "23199     1009\n",
      "22139      993\n",
      "22077      986\n",
      "22138      974\n",
      "21034      967\n",
      "22470      963\n",
      "85099C     960\n",
      "84946      946\n",
      "21790      944\n",
      "82494L     943\n",
      "23301      937\n",
      "Name: StockCode, dtype: int64\n",
      "\n",
      "Description\n",
      "WHITE HANGING HEART T-LIGHT HOLDER     2369\n",
      "REGENCY CAKESTAND 3 TIER               2200\n",
      "JUMBO BAG RED RETROSPOT                2159\n",
      "PARTY BUNTING                          1727\n",
      "LUNCH BAG RED RETROSPOT                1638\n",
      "ASSORTED COLOUR BIRD ORNAMENT          1501\n",
      "SET OF 3 CAKE TINS PANTRY DESIGN       1473\n",
      "PACK OF 72 RETROSPOT CAKE CASES        1385\n",
      "LUNCH BAG  BLACK SKULL.                1350\n",
      "NATURAL SLATE HEART CHALKBOARD         1280\n",
      "POSTAGE                                1252\n",
      "JUMBO BAG PINK POLKADOT                1251\n",
      "HEART OF WICKER SMALL                  1237\n",
      "JAM MAKING SET WITH JARS               1229\n",
      "JUMBO STORAGE BAG SUKI                 1214\n",
      "PAPER CHAIN KIT 50'S CHRISTMAS         1210\n",
      "JUMBO SHOPPER VINTAGE RED PAISLEY      1202\n",
      "LUNCH BAG CARS BLUE                    1197\n",
      "LUNCH BAG SPACEBOY DESIGN              1192\n",
      "JAM MAKING SET PRINTED                 1182\n",
      "RECIPE BOX PANTRY YELLOW DESIGN        1180\n",
      "SPOTTY BUNTING                         1172\n",
      "LUNCH BAG SUKI DESIGN                  1139\n",
      "ROSES REGENCY TEACUP AND SAUCER        1138\n",
      "LUNCH BAG PINK POLKADOT                1137\n",
      "WOODEN PICTURE FRAME WHITE FINISH      1129\n",
      "SET OF 4 PANTRY JELLY MOULDS           1111\n",
      "ALARM CLOCK BAKELIKE RED               1107\n",
      "GREEN REGENCY TEACUP AND SAUCER        1085\n",
      "LUNCH BAG APPLE DESIGN                 1084\n",
      "VICTORIAN GLASS HANGING T-LIGHT        1072\n",
      "RED RETROSPOT CHARLOTTE BAG            1068\n",
      "LUNCH BAG WOODLAND                     1061\n",
      "RABBIT NIGHT LIGHT                     1051\n",
      "ALARM CLOCK BAKELIKE GREEN             1024\n",
      "SET/20 RED RETROSPOT PAPER NAPKINS     1015\n",
      "JUMBO BAG APPLES                       1009\n",
      "WOODEN FRAME ANTIQUE WHITE              999\n",
      "RETROSPOT TEA SET CERAMIC 11 PC         988\n",
      "6 RIBBONS RUSTIC CHARM                  986\n",
      "BAKING SET 9 PIECE RETROSPOT            974\n",
      "REX CASH+CARRY JUMBO SHOPPER            967\n",
      "HEART OF WICKER LARGE                   961\n",
      "JUMBO  BAG BAROQUE BLACK WHITE          960\n",
      "VINTAGE SNAP CARDS                      944\n",
      "GARDENERS KNEELING PAD KEEP CALM        937\n",
      "SET/5 RED RETROSPOT LID GLASS BOWLS     936\n",
      "JUMBO BAG ALPHABET                      930\n",
      "SPACEBOY LUNCH BOX                      924\n",
      "SET OF 3 REGENCY CAKE TINS              919\n",
      "Name: Description, dtype: int64\n",
      "\n",
      "Quantity\n",
      " 1      148227\n",
      " 2       81829\n",
      " 12      61063\n",
      " 6       40868\n",
      " 4       38484\n",
      " 3       37121\n",
      " 24      24021\n",
      " 10      22288\n",
      " 8       13129\n",
      " 5       11757\n",
      " 48       6068\n",
      " 25       5124\n",
      " 20       5019\n",
      " 16       4266\n",
      "-1        4184\n",
      " 36       3822\n",
      " 7        2914\n",
      " 9        2037\n",
      " 72       1946\n",
      " 100      1819\n",
      " 96       1813\n",
      " 18       1787\n",
      "-2        1395\n",
      " 30       1185\n",
      " 40       1081\n",
      " 32       1047\n",
      " 144      1021\n",
      " 11        956\n",
      " 50        916\n",
      " 15        802\n",
      " 60        675\n",
      "-3         620\n",
      " 120       605\n",
      " 13        585\n",
      " 14        569\n",
      "-12        564\n",
      "-6         518\n",
      "-4         502\n",
      " 200       419\n",
      " 192       342\n",
      " 64        283\n",
      " 17        270\n",
      " 240       263\n",
      "-24        261\n",
      " 288       248\n",
      "-5         235\n",
      " 19        223\n",
      " 80        211\n",
      "-10        197\n",
      " 21        177\n",
      "Name: Quantity, dtype: int64\n",
      "\n",
      "InvoiceDate\n",
      "31-10-2011 14:41    1114\n",
      "08-12-2011 09:28     749\n",
      "09-12-2011 10:03     731\n",
      "05-12-2011 17:24     721\n",
      "29-06-2011 15:58     705\n",
      "30-11-2011 15:13     687\n",
      "08-12-2011 09:20     676\n",
      "06-12-2010 16:57     675\n",
      "05-12-2011 17:28     662\n",
      "09-12-2010 14:09     652\n",
      "02-12-2011 16:39     651\n",
      "01-12-2011 16:22     645\n",
      "08-12-2011 16:30     635\n",
      "06-12-2011 16:26     629\n",
      "24-11-2011 09:21     625\n",
      "10-12-2010 14:59     621\n",
      "24-11-2011 09:26     606\n",
      "07-12-2010 15:28     601\n",
      "06-12-2010 09:58     597\n",
      "15-11-2011 16:57     593\n",
      "03-12-2010 11:36     593\n",
      "01-12-2010 17:06     592\n",
      "08-12-2010 14:25     591\n",
      "16-11-2011 15:16     585\n",
      "29-11-2011 16:33     578\n",
      "17-11-2011 15:17     572\n",
      "06-12-2010 10:08     568\n",
      "18-11-2011 15:59     561\n",
      "15-11-2011 17:00     552\n",
      "16-11-2011 15:23     544\n",
      "14-11-2011 15:27     543\n",
      "28-11-2011 15:31     541\n",
      "10-12-2010 09:51     540\n",
      "07-12-2010 18:36     536\n",
      "28-11-2011 15:54     534\n",
      "05-12-2011 17:17     530\n",
      "01-12-2010 14:32     528\n",
      "25-11-2011 16:14     527\n",
      "11-11-2011 17:58     526\n",
      "21-11-2011 15:18     526\n",
      "25-11-2011 14:25     520\n",
      "14-11-2011 15:22     518\n",
      "17-12-2010 14:54     518\n",
      "08-11-2011 18:29     518\n",
      "09-11-2011 16:14     515\n",
      "23-12-2010 13:26     512\n",
      "11-11-2011 13:06     503\n",
      "29-11-2011 16:47     503\n",
      "10-01-2011 09:43     502\n",
      "22-11-2011 15:43     495\n",
      "Name: InvoiceDate, dtype: int64\n",
      "\n",
      "UnitPrice\n",
      "1.25     50496\n",
      "1.65     38181\n",
      "0.85     28497\n",
      "2.95     27768\n",
      "0.42     24533\n",
      "4.95     19040\n",
      "3.75     18600\n",
      "2.10     17697\n",
      "2.46     17091\n",
      "2.08     17005\n",
      "0.83     16978\n",
      "4.13     15337\n",
      "1.95     13145\n",
      "1.45     13059\n",
      "2.55     13033\n",
      "1.63     12715\n",
      "3.29     11762\n",
      "0.39      8245\n",
      "5.95      7915\n",
      "0.65      7861\n",
      "0.55      7661\n",
      "4.25      7484\n",
      "7.95      7087\n",
      "5.79      6845\n",
      "4.15      6193\n",
      "9.95      5846\n",
      "8.50      5773\n",
      "8.29      4790\n",
      "4.96      4496\n",
      "0.29      4426\n",
      "1.69      4395\n",
      "12.75     3845\n",
      "8.25      3765\n",
      "7.46      3295\n",
      "10.79     3084\n",
      "3.95      2947\n",
      "0.79      2833\n",
      "2.89      2735\n",
      "2.51      2709\n",
      "0.00      2515\n",
      "1.66      2511\n",
      "6.75      2459\n",
      "3.25      2206\n",
      "4.21      2180\n",
      "3.36      2112\n",
      "0.19      1905\n",
      "16.63     1705\n",
      "1.06      1559\n",
      "12.46     1531\n",
      "6.25      1437\n",
      "Name: UnitPrice, dtype: int64\n",
      "\n",
      "CustomerID\n",
      "17841.0    7983\n",
      "14911.0    5903\n",
      "14096.0    5128\n",
      "12748.0    4642\n",
      "14606.0    2782\n",
      "15311.0    2491\n",
      "14646.0    2085\n",
      "13089.0    1857\n",
      "13263.0    1677\n",
      "14298.0    1640\n",
      "15039.0    1508\n",
      "14156.0    1420\n",
      "18118.0    1284\n",
      "14159.0    1212\n",
      "14796.0    1165\n",
      "15005.0    1160\n",
      "16033.0    1152\n",
      "14056.0    1128\n",
      "14769.0    1094\n",
      "17511.0    1076\n",
      "13081.0    1061\n",
      "14527.0    1011\n",
      "16549.0     981\n",
      "14456.0     977\n",
      "15719.0     938\n",
      "15555.0     925\n",
      "16931.0     898\n",
      "17811.0     872\n",
      "14505.0     803\n",
      "12415.0     778\n",
      "17338.0     757\n",
      "18283.0     756\n",
      "17757.0     742\n",
      "12921.0     741\n",
      "17675.0     721\n",
      "15159.0     720\n",
      "16764.0     718\n",
      "16904.0     710\n",
      "13137.0     705\n",
      "15547.0     702\n",
      "17920.0     696\n",
      "16923.0     696\n",
      "17735.0     690\n",
      "15529.0     674\n",
      "16360.0     671\n",
      "16729.0     668\n",
      "16241.0     662\n",
      "15856.0     653\n",
      "12681.0     646\n",
      "13969.0     633\n",
      "Name: CustomerID, dtype: int64\n",
      "\n",
      "Country\n",
      "United Kingdom          495478\n",
      "Germany                   9495\n",
      "France                    8557\n",
      "EIRE                      8196\n",
      "Spain                     2533\n",
      "Netherlands               2371\n",
      "Belgium                   2069\n",
      "Switzerland               2002\n",
      "Portugal                  1519\n",
      "Australia                 1259\n",
      "Norway                    1086\n",
      "Italy                      803\n",
      "Channel Islands            758\n",
      "Finland                    695\n",
      "Cyprus                     622\n",
      "Sweden                     462\n",
      "Unspecified                446\n",
      "Austria                    401\n",
      "Denmark                    389\n",
      "Japan                      358\n",
      "Poland                     341\n",
      "Israel                     297\n",
      "USA                        291\n",
      "Hong Kong                  288\n",
      "Singapore                  229\n",
      "Iceland                    182\n",
      "Canada                     151\n",
      "Greece                     146\n",
      "Malta                      127\n",
      "United Arab Emirates        68\n",
      "European Community          61\n",
      "RSA                         58\n",
      "Lebanon                     45\n",
      "Lithuania                   35\n",
      "Brazil                      32\n",
      "Czech Republic              30\n",
      "Bahrain                     19\n",
      "Saudi Arabia                10\n",
      "Name: Country, dtype: int64\n",
      "\n"
     ]
    }
   ],
   "source": [
    "#Getting value counts for the most 50 common values of our dataset\n",
    "columns = df.columns\n",
    "def get_value_counts(columns) -> str:\n",
    "    for column in columns:\n",
    "        print(\"{}\".format(column))\n",
    "        print(\"{}\\n\".format(df[column].value_counts().head(n=50)))\n",
    "get_value_counts(columns)"
   ]
  },
  {
   "cell_type": "code",
   "execution_count": 11,
   "id": "33cec13c",
   "metadata": {},
   "outputs": [],
   "source": [
    "#we are gonna drop all entries with a null Description since they are just 1454 a small value to lose\n",
    "#We will fill null values of CustomerID since they are 135,080 with random samples from the existing customer ids\n",
    "#its a large amount of data to lose\n",
    "\n",
    "# We create a copy of the online retail object, as we want to keep the original how we initially had it.\n",
    "copy_of_online_retail = df.copy()\n",
    "copy_of_online_retail.dropna(subset=\"Description\", how=\"all\", inplace = True)"
   ]
  },
  {
   "cell_type": "code",
   "execution_count": 12,
   "id": "8bd279c3",
   "metadata": {},
   "outputs": [],
   "source": [
    "#Dropping null columns of Description\n",
    "copy_of_online_retail.dropna(subset=\"Description\", how=\"all\", inplace = True)"
   ]
  },
  {
   "cell_type": "code",
   "execution_count": 13,
   "id": "36043ef0",
   "metadata": {},
   "outputs": [
    {
     "name": "stdout",
     "output_type": "stream",
     "text": [
      "InvoiceNo:0 nulls\n",
      "StockCode:0 nulls\n",
      "Description:0 nulls\n",
      "Quantity:0 nulls\n",
      "InvoiceDate:0 nulls\n",
      "UnitPrice:0 nulls\n",
      "CustomerID:133626 nulls\n",
      "Country:0 nulls\n"
     ]
    }
   ],
   "source": [
    "#Checking null values\n",
    "columns = copy_of_online_retail.columns\n",
    "def calculate_nulls(columns) -> str:\n",
    "    for column in columns:\n",
    "        print(\"{}:{} nulls\".format(column, copy_of_online_retail[column].isnull().sum()))\n",
    "calculate_nulls(columns)"
   ]
  },
  {
   "cell_type": "code",
   "execution_count": 14,
   "id": "c047e064",
   "metadata": {},
   "outputs": [],
   "source": [
    "#filling null values of CustomerID with random samples from the existing customer ids\n",
    "copy_of_online_retail.fillna(value=np.random.choice(copy_of_online_retail[\"CustomerID\"]), inplace=True)"
   ]
  },
  {
   "cell_type": "code",
   "execution_count": 15,
   "id": "9e66f25f",
   "metadata": {
    "scrolled": true
   },
   "outputs": [
    {
     "name": "stdout",
     "output_type": "stream",
     "text": [
      "InvoiceNo:0 nulls\n",
      "StockCode:0 nulls\n",
      "Description:0 nulls\n",
      "Quantity:0 nulls\n",
      "InvoiceDate:0 nulls\n",
      "UnitPrice:0 nulls\n",
      "CustomerID:0 nulls\n",
      "Country:0 nulls\n"
     ]
    }
   ],
   "source": [
    "#Checking null values\n",
    "columns = copy_of_online_retail.columns\n",
    "def calculate_nulls(columns) -> str:\n",
    "    for column in columns:\n",
    "        print(\"{}:{} nulls\".format(column, copy_of_online_retail[column].isnull().sum()))\n",
    "calculate_nulls(columns)"
   ]
  },
  {
   "cell_type": "markdown",
   "id": "3c6319c7",
   "metadata": {},
   "source": [
    "### Plotting of our data"
   ]
  },
  {
   "cell_type": "code",
   "execution_count": 14,
   "id": "7bdb55fe",
   "metadata": {},
   "outputs": [
    {
     "name": "stdout",
     "output_type": "stream",
     "text": [
      "Defaulting to user installation because normal site-packages is not writeable\n",
      "Requirement already satisfied: seaborn in /home/einstein/.local/lib/python3.10/site-packages (0.12.1)\n",
      "Requirement already satisfied: pandas>=0.25 in /home/einstein/.local/lib/python3.10/site-packages (from seaborn) (1.4.2)\n",
      "Requirement already satisfied: numpy>=1.17 in /usr/lib/python3/dist-packages (from seaborn) (1.21.5)\n",
      "Requirement already satisfied: matplotlib!=3.6.1,>=3.1 in /usr/lib/python3/dist-packages (from seaborn) (3.5.1)\n",
      "Requirement already satisfied: pytz>=2020.1 in /usr/lib/python3/dist-packages (from pandas>=0.25->seaborn) (2022.1)\n",
      "Requirement already satisfied: python-dateutil>=2.8.1 in /usr/lib/python3/dist-packages (from pandas>=0.25->seaborn) (2.8.1)\n"
     ]
    }
   ],
   "source": [
    "!pip install seaborn"
   ]
  },
  {
   "cell_type": "markdown",
   "id": "900d0dc3",
   "metadata": {},
   "source": [
    "#### Histograms of our data"
   ]
  },
  {
   "cell_type": "markdown",
   "id": "f302f814",
   "metadata": {},
   "source": [
    "#### PIECHARTS FOR OUR DATA"
   ]
  },
  {
   "cell_type": "code",
   "execution_count": 33,
   "id": "91df558a",
   "metadata": {},
   "outputs": [
    {
     "ename": "NameError",
     "evalue": "name 'train' is not defined",
     "output_type": "error",
     "traceback": [
      "\u001b[0;31m---------------------------------------------------------------------------\u001b[0m",
      "\u001b[0;31mNameError\u001b[0m                                 Traceback (most recent call last)",
      "\u001b[0;32m/tmp/ipykernel_9462/3178135203.py\u001b[0m in \u001b[0;36m<module>\u001b[0;34m\u001b[0m\n\u001b[1;32m      5\u001b[0m         \u001b[0mplt\u001b[0m\u001b[0;34m.\u001b[0m\u001b[0myscale\u001b[0m\u001b[0;34m(\u001b[0m\u001b[0;34m'log'\u001b[0m\u001b[0;34m)\u001b[0m\u001b[0;34m\u001b[0m\u001b[0;34m\u001b[0m\u001b[0m\n\u001b[1;32m      6\u001b[0m         \u001b[0mplt\u001b[0m\u001b[0;34m.\u001b[0m\u001b[0mshow\u001b[0m\u001b[0;34m(\u001b[0m\u001b[0;34m)\u001b[0m\u001b[0;34m\u001b[0m\u001b[0;34m\u001b[0m\u001b[0m\n\u001b[0;32m----> 7\u001b[0;31m \u001b[0mplot_hists\u001b[0m\u001b[0;34m(\u001b[0m\u001b[0mcolumns\u001b[0m\u001b[0;34m)\u001b[0m\u001b[0;34m\u001b[0m\u001b[0;34m\u001b[0m\u001b[0m\n\u001b[0m",
      "\u001b[0;32m/tmp/ipykernel_9462/3178135203.py\u001b[0m in \u001b[0;36mplot_hists\u001b[0;34m(columns)\u001b[0m\n\u001b[1;32m      2\u001b[0m \u001b[0;32mdef\u001b[0m \u001b[0mplot_hists\u001b[0m\u001b[0;34m(\u001b[0m\u001b[0mcolumns\u001b[0m\u001b[0;34m)\u001b[0m\u001b[0;34m:\u001b[0m\u001b[0;34m\u001b[0m\u001b[0;34m\u001b[0m\u001b[0m\n\u001b[1;32m      3\u001b[0m     \u001b[0;32mfor\u001b[0m \u001b[0mcolumn\u001b[0m \u001b[0;32min\u001b[0m \u001b[0mcolumns\u001b[0m\u001b[0;34m:\u001b[0m\u001b[0;34m\u001b[0m\u001b[0;34m\u001b[0m\u001b[0m\n\u001b[0;32m----> 4\u001b[0;31m         \u001b[0mplt\u001b[0m\u001b[0;34m.\u001b[0m\u001b[0mhist\u001b[0m\u001b[0;34m(\u001b[0m\u001b[0mtrain\u001b[0m\u001b[0;34m[\u001b[0m\u001b[0mcolumns\u001b[0m\u001b[0;34m]\u001b[0m\u001b[0;34m,\u001b[0m \u001b[0mbins\u001b[0m\u001b[0;34m=\u001b[0m\u001b[0mnp\u001b[0m\u001b[0;34m.\u001b[0m\u001b[0marange\u001b[0m\u001b[0;34m(\u001b[0m\u001b[0;36m35\u001b[0m\u001b[0;34m,\u001b[0m \u001b[0;36m52.5\u001b[0m\u001b[0;34m,\u001b[0m \u001b[0;36m0.01\u001b[0m\u001b[0;34m)\u001b[0m\u001b[0;34m)\u001b[0m\u001b[0;34m\u001b[0m\u001b[0;34m\u001b[0m\u001b[0m\n\u001b[0m\u001b[1;32m      5\u001b[0m         \u001b[0mplt\u001b[0m\u001b[0;34m.\u001b[0m\u001b[0myscale\u001b[0m\u001b[0;34m(\u001b[0m\u001b[0;34m'log'\u001b[0m\u001b[0;34m)\u001b[0m\u001b[0;34m\u001b[0m\u001b[0;34m\u001b[0m\u001b[0m\n\u001b[1;32m      6\u001b[0m         \u001b[0mplt\u001b[0m\u001b[0;34m.\u001b[0m\u001b[0mshow\u001b[0m\u001b[0;34m(\u001b[0m\u001b[0;34m)\u001b[0m\u001b[0;34m\u001b[0m\u001b[0;34m\u001b[0m\u001b[0m\n",
      "\u001b[0;31mNameError\u001b[0m: name 'train' is not defined"
     ]
    }
   ],
   "source": [
    "### GET SOME HIGHER RAM TO RUN THIS UNLESS YOU WANT TO FREEZE YOUR COMPUTER YOUR COMPUTER--> run in colab\n",
    "columns = copy_of_online_retail.columns\n",
    "def plot_hists(columns):\n",
    "    for column in columns:\n",
    "        plt.hist(copy_of_online_retail[columns])\n",
    "        plt.yscale('log')\n",
    "        plt.show()\n",
    "plot_hists(columns)"
   ]
  },
  {
   "cell_type": "code",
   "execution_count": null,
   "id": "71b6f462",
   "metadata": {},
   "outputs": [],
   "source": [
    "### GET SOME HIGHER RAM TO RUN THIS UNLESS YOU WANT TO FREEZE YOUR COMPUTER YOUR COMPUTER--> run in colab\n",
    "columns = copy_of_online_retail.columns\n",
    "def plot_charts():\n",
    "    fig = plt.figure()\n",
    "    ax = fig.add_axes([0,0,1,1])\n",
    "    ax.axis('equal')\n",
    "    for column in columns:\n",
    "        labels = []\n",
    "        for val in copy_of_online_retail[column].tolist():\n",
    "            if val not in labels:\n",
    "                labels.append(val)\n",
    "        ax.pie(copy_of_online_retail[column], labels = labels, autopct='%1.2f%%')\n",
    "        plt.show()"
   ]
  },
  {
   "cell_type": "markdown",
   "id": "5e1b30a1",
   "metadata": {},
   "source": [
    "### Heat maps"
   ]
  },
  {
   "cell_type": "code",
   "execution_count": 13,
   "id": "1b46fb80",
   "metadata": {},
   "outputs": [
    {
     "data": {
      "image/png": "[encoded data removed]",
      "text/plain": [
       "<Figure size 432x288 with 1 Axes>"
      ]
     },
     "metadata": {},
     "output_type": "display_data"
    }
   ],
   "source": [
    "### Run a for loop throughout this data creating correlation matrixes between any two columns and then creating a heat map\n",
    "##for example--> run a correlation matrix between Quantity and Unity Price and run a heat map\n",
    "sns.set()\n",
    "corr = copy_of_online_retail.corr()\n",
    "ax1 = sns.heatmap(corr, cbar=0, linewidths=2,vmax=1, vmin=0, square=True, cmap='Blues')\n",
    "plt.show()"
   ]
  },
  {
   "cell_type": "markdown",
   "id": "bf034ac7",
   "metadata": {},
   "source": [
    "### Correlation matrix"
   ]
  },
  {
   "cell_type": "code",
   "execution_count": 14,
   "id": "b097aeca",
   "metadata": {},
   "outputs": [
    {
     "data": {
      "text/plain": [
       "<AxesSubplot:>"
      ]
     },
     "execution_count": 14,
     "metadata": {},
     "output_type": "execute_result"
    },
    {
     "data": {
      "image/png": "[encoded data removed]",
      "text/plain": [
       "<Figure size 792x648 with 2 Axes>"
      ]
     },
     "metadata": {},
     "output_type": "display_data"
    }
   ],
   "source": [
    "#try looking further into this :) pliz \n",
    "sns.set_theme(style=\"white\")\n",
    "\n",
    "# Compute the correlation matrix\n",
    "corr = copy_of_online_retail.corr()\n",
    "\n",
    "# Generate a mask for the upper triangle\n",
    "mask = np.triu(np.ones_like(corr, dtype=bool))\n",
    "\n",
    "# Set up the matplotlib figure\n",
    "f, ax = plt.subplots(figsize=(11, 9))\n",
    "\n",
    "# Generate a custom diverging colormap\n",
    "cmap = sns.diverging_palette(230, 20, as_cmap=True)\n",
    "\n",
    "# Draw the heatmap with the mask and correct aspect ratio\n",
    "sns.heatmap(corr, mask=mask, cmap=cmap, vmax=.3, center=0,\n",
    "            square=True, linewidths=.5, cbar_kws={\"shrink\": .5})"
   ]
  },
  {
   "cell_type": "markdown",
   "id": "292a2cb6",
   "metadata": {},
   "source": [
    "### Boxplots"
   ]
  },
  {
   "cell_type": "code",
   "execution_count": 28,
   "id": "9d1df915",
   "metadata": {},
   "outputs": [
    {
     "data": {
      "image/png": "[encoded data removed]",
      "text/plain": [
       "<Figure size 432x288 with 1 Axes>"
      ]
     },
     "metadata": {},
     "output_type": "display_data"
    }
   ],
   "source": [
    "def plot_box_plots_for_numerics():\n",
    "    columns = copy_of_online_retail.columns\n",
    "    for column in columns:\n",
    "        for column in columns:\n",
    "## try increasing the size of the box plots for a better view\n",
    "sns.boxplot(x=copy_of_online_retail[\"Quantity\"], y=copy_of_online_retail[\"CustomerID\"], width=0.9, palette=\"Blues\");\n",
    "plt.show()"
   ]
  },
  {
   "cell_type": "code",
   "execution_count": 52,
   "id": "d3e0fb5c",
   "metadata": {},
   "outputs": [
    {
     "data": {
      "image/png": "[encoded data removed]",
      "text/plain": [
       "<Figure size 432x288 with 1 Axes>"
      ]
     },
     "metadata": {},
     "output_type": "display_data"
    }
   ],
   "source": [
    "sns.boxplot(x=copy_of_online_retail[\"UnitPrice\"], y=copy_of_online_retail[\"CustomerID\"], width=0.9, palette=\"Blues\");\n",
    "plt.show()"
   ]
  },
  {
   "cell_type": "code",
   "execution_count": 53,
   "id": "0a178a81",
   "metadata": {},
   "outputs": [
    {
     "data": {
      "image/png": "[encoded data removed]",
      "text/plain": [
       "<Figure size 432x288 with 1 Axes>"
      ]
     },
     "metadata": {},
     "output_type": "display_data"
    }
   ],
   "source": [
    "sns.boxplot(x=copy_of_online_retail[\"UnitPrice\"], y=copy_of_online_retail[\"Quantity\"], width=0.9, palette=\"Blues\");\n",
    "plt.show()"
   ]
  },
  {
   "cell_type": "markdown",
   "id": "c2ce6225",
   "metadata": {},
   "source": [
    "### Feature Independence Plots"
   ]
  },
  {
   "cell_type": "code",
   "execution_count": null,
   "id": "8060748b",
   "metadata": {},
   "outputs": [],
   "source": [
    "###Research on independent plots "
   ]
  },
  {
   "cell_type": "markdown",
   "id": "1007fa42",
   "metadata": {},
   "source": [
    "### Outlier Plots"
   ]
  },
  {
   "cell_type": "code",
   "execution_count": null,
   "id": "5797320f",
   "metadata": {},
   "outputs": [],
   "source": [
    "###You can plot simple graphs or use scikit learn to detect outliers"
   ]
  },
  {
   "cell_type": "markdown",
   "id": "6c8f9475",
   "metadata": {},
   "source": [
    "### Illustration of Trends in Time and Space"
   ]
  },
  {
   "cell_type": "code",
   "execution_count": 21,
   "id": "adfd8e62",
   "metadata": {},
   "outputs": [
    {
     "data": {
      "text/plain": [
       "<AxesSubplot:xlabel='Quantity'>"
      ]
     },
     "execution_count": 21,
     "metadata": {},
     "output_type": "execute_result"
    },
    {
     "data": {
      "image/png": "[encoded data removed]",
      "text/plain": [
       "<Figure size 1080x288 with 1 Axes>"
      ]
     },
     "metadata": {},
     "output_type": "display_data"
    },
    {
     "data": {
      "image/png": "[encoded data removed]",
      "text/plain": [
       "<Figure size 1080x288 with 3 Axes>"
      ]
     },
     "metadata": {},
     "output_type": "display_data"
    },
    {
     "data": {
      "image/png": "[encoded data removed]",
      "text/plain": [
       "<Figure size 1080x288 with 1 Axes>"
      ]
     },
     "metadata": {},
     "output_type": "display_data"
    },
    {
     "data": {
      "image/png": "[encoded data removed]",
      "text/plain": [
       "<Figure size 432x288 with 1 Axes>"
      ]
     },
     "metadata": {},
     "output_type": "display_data"
    }
   ],
   "source": [
    "pd.to_datetime(copy_of_online_retail[\"InvoiceDate\"])\n",
    "copy_of_online_retail.plot(figsize=(15, 4))\n",
    "copy_of_online_retail.plot(subplots=True, figsize=(15, 4))\n",
    "copy_of_online_retail.plot(y=[\"Quantity\", \"InvoiceDate\"], figsize=(15, 4))\n",
    "copy_of_online_retail.plot(x=\"Quantity\", y=[\"InvoiceDate\", \"UnitPrice\"], style='.')"
   ]
  },
  {
   "cell_type": "code",
   "execution_count": null,
   "id": "8b75dc65",
   "metadata": {},
   "outputs": [],
   "source": []
  }
 ],
 "metadata": {
  "kernelspec": {
   "display_name": "Python 3 (ipykernel)",
   "language": "python",
   "name": "python3"
  },
  "language_info": {
   "codemirror_mode": {
    "name": "ipython",
    "version": 3
   },
   "file_extension": ".py",
   "mimetype": "text/x-python",
   "name": "python",
   "nbconvert_exporter": "python",
   "pygments_lexer": "ipython3",
   "version": "3.10.4"
  }
 },
 "nbformat": 4,
 "nbformat_minor": 5
}
